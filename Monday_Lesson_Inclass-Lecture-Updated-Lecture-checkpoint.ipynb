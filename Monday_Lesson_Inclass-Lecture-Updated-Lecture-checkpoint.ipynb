{
 "cells": [
  {
   "cell_type": "markdown",
   "metadata": {},
   "source": [
    "# Week 2 - Monday Lesson (variable assignment, loops, lists)"
   ]
  },
  {
   "cell_type": "markdown",
   "metadata": {},
   "source": [
    "## Tasks Today:\n",
    "\n",
    "1) Int & Float assignments <br>\n",
    " &nbsp;&nbsp;&nbsp;&nbsp; a) Assigning int <br>\n",
    " &nbsp;&nbsp;&nbsp;&nbsp; b) Assigning float <br>\n",
    " &nbsp;&nbsp;&nbsp;&nbsp; c) Performing Calculations on ints and floats <br>\n",
    " &nbsp;&nbsp;&nbsp;&nbsp;&nbsp;&nbsp;&nbsp;&nbsp; - Addition <br>\n",
    " &nbsp;&nbsp;&nbsp;&nbsp;&nbsp;&nbsp;&nbsp;&nbsp; - Subtraction <br>\n",
    " &nbsp;&nbsp;&nbsp;&nbsp;&nbsp;&nbsp;&nbsp;&nbsp; - Multiplication <br>\n",
    " &nbsp;&nbsp;&nbsp;&nbsp;&nbsp;&nbsp;&nbsp;&nbsp; - Division <br>\n",
    " &nbsp;&nbsp;&nbsp;&nbsp;&nbsp;&nbsp;&nbsp;&nbsp; - Floor Division <br>\n",
    " &nbsp;&nbsp;&nbsp;&nbsp;&nbsp;&nbsp;&nbsp;&nbsp; - Modulo <br>\n",
    " &nbsp;&nbsp;&nbsp;&nbsp;&nbsp;&nbsp;&nbsp;&nbsp; - Exponential <br>\n",
    "2) String Input-Output <br>\n",
    " &nbsp;&nbsp;&nbsp;&nbsp; a) String Assignment <br>\n",
    " &nbsp;&nbsp;&nbsp;&nbsp; b) print() <br>\n",
    " &nbsp;&nbsp;&nbsp;&nbsp; c) String Concatenation <br>\n",
    " &nbsp;&nbsp;&nbsp;&nbsp; d) Type Conversion <br>\n",
    " &nbsp;&nbsp;&nbsp;&nbsp; e) input() <br>\n",
    " &nbsp;&nbsp;&nbsp;&nbsp; f) format() <br>\n",
    " &nbsp;&nbsp;&nbsp;&nbsp; g) Old Way (python 2) <br>\n",
    "3) <b>In-Class Exercise #1</b> <br>\n",
    "4) If Statements <br>\n",
    " &nbsp;&nbsp;&nbsp;&nbsp; a) 'is' keyword <br>\n",
    " &nbsp;&nbsp;&nbsp;&nbsp; b) 'in' keyword <br>\n",
    " &nbsp;&nbsp;&nbsp;&nbsp; c) 'not in' keyword <br>\n",
    "5) <b>In-Class Exercise #2</b> <br>\n",
    "6) Elif Statements <br>\n",
    "7) Else Statements <br>\n",
    "8) <b>In-Class Exercise #3</b> <br>\n",
    "9) For Loops <br>\n",
    " &nbsp;&nbsp;&nbsp;&nbsp; a) Using 'in' keyword <br>\n",
    " &nbsp;&nbsp;&nbsp;&nbsp; b) Continue Statement <br>\n",
    " &nbsp;&nbsp;&nbsp;&nbsp; c) Break Statement <br>\n",
    " &nbsp;&nbsp;&nbsp;&nbsp; d) Pass Statement <br>\n",
    " &nbsp;&nbsp;&nbsp;&nbsp; e) Double For Loops <br>\n",
    "10) While Loops <br>\n",
    " &nbsp;&nbsp;&nbsp;&nbsp; a) Looping 'While True' <br>\n",
    " &nbsp;&nbsp;&nbsp;&nbsp; b) While and For Loops Used Together <br>\n",
    "11) Built-In Functions <br>\n",
    " &nbsp;&nbsp;&nbsp;&nbsp; a) range() <br>\n",
    " &nbsp;&nbsp;&nbsp;&nbsp; b) len() <br>\n",
    " &nbsp;&nbsp;&nbsp;&nbsp; c) help() <br>\n",
    " &nbsp;&nbsp;&nbsp;&nbsp; d) isinstance() <br>\n",
    " &nbsp;&nbsp;&nbsp;&nbsp; e) abs() <br>\n",
    "12) Try and Except <br>\n",
    "13) Lists <br>\n",
    " &nbsp;&nbsp;&nbsp;&nbsp; a) Declaring Lists <br>\n",
    " &nbsp;&nbsp;&nbsp;&nbsp; b) Indexing a List <br>\n",
    " &nbsp;&nbsp;&nbsp;&nbsp; c) .append() <br>\n",
    " &nbsp;&nbsp;&nbsp;&nbsp; d) .insert() <br>\n",
    " &nbsp;&nbsp;&nbsp;&nbsp; e) .pop() <br>\n",
    " &nbsp;&nbsp;&nbsp;&nbsp; f) .remove() <br>\n",
    " &nbsp;&nbsp;&nbsp;&nbsp; g) del() <br>\n",
    " &nbsp;&nbsp;&nbsp;&nbsp; h) Concatenating Two Lists <br>\n",
    " &nbsp;&nbsp;&nbsp;&nbsp; i) Lists Within Lists <br>\n",
    " &nbsp;&nbsp;&nbsp;&nbsp; j) Looping Through Lists <br>"
   ]
  },
  {
   "cell_type": "markdown",
   "metadata": {},
   "source": [
    "### Int & Float Assignments"
   ]
  },
  {
   "cell_type": "markdown",
   "metadata": {},
   "source": [
    "##### Assigning int"
   ]
  },
  {
   "cell_type": "code",
   "execution_count": 1,
   "metadata": {},
   "outputs": [],
   "source": [
    "# Integer is a whole number\n",
    "favorite_number = 23"
   ]
  },
  {
   "cell_type": "markdown",
   "metadata": {},
   "source": [
    "##### Assinging float"
   ]
  },
  {
   "cell_type": "code",
   "execution_count": 2,
   "metadata": {},
   "outputs": [],
   "source": [
    "# Float is a number with a decimal\n",
    "a_float = 1.5"
   ]
  },
  {
   "cell_type": "markdown",
   "metadata": {},
   "source": [
    "#### Performing Calculations on ints and floats"
   ]
  },
  {
   "cell_type": "markdown",
   "metadata": {},
   "source": [
    "##### Addition"
   ]
  },
  {
   "cell_type": "code",
   "execution_count": 13,
   "metadata": {},
   "outputs": [
    {
     "name": "stdout",
     "output_type": "stream",
     "text": [
      "10\n",
      "158\n",
      "5.9\n"
     ]
    }
   ],
   "source": [
    "print(5+5)\n",
    "print(favorite_number + 5)\n",
    "\n",
    "#Didn't reassign favorite_number value\n",
    "print(a_float + 5)"
   ]
  },
  {
   "cell_type": "markdown",
   "metadata": {},
   "source": [
    "##### Subtraction"
   ]
  },
  {
   "cell_type": "code",
   "execution_count": 11,
   "metadata": {},
   "outputs": [
    {
     "name": "stdout",
     "output_type": "stream",
     "text": [
      "5\n",
      "17\n",
      "17\n",
      "0.8999999999999999\n"
     ]
    }
   ],
   "source": [
    "print(10-5)\n",
    "print(favorite_number - 10)\n",
    "\n",
    "#long hand version\n",
    "favorite_number = favorite_number - 10\n",
    "print(favorite_number)\n",
    "\n",
    "#short hand version\n",
    "a_float -= .3\n",
    "print(a_float)"
   ]
  },
  {
   "cell_type": "markdown",
   "metadata": {},
   "source": [
    "##### Multiplication"
   ]
  },
  {
   "cell_type": "code",
   "execution_count": 17,
   "metadata": {},
   "outputs": [
    {
     "name": "stdout",
     "output_type": "stream",
     "text": [
      "10\n",
      "334611\n",
      "334611\n",
      "1003833\n"
     ]
    }
   ],
   "source": [
    "print(5*2)\n",
    "print(favorite_number * 3)\n",
    "#reassign\n",
    "#long hand\n",
    "favorite_number = favorite_number *3\n",
    "print(favorite_number)\n",
    "#short hand\n",
    "favorite_number *= 3\n",
    "print(favorite_number)\n"
   ]
  },
  {
   "cell_type": "markdown",
   "metadata": {},
   "source": [
    "##### Division"
   ]
  },
  {
   "cell_type": "code",
   "execution_count": 29,
   "metadata": {},
   "outputs": [
    {
     "name": "stdout",
     "output_type": "stream",
     "text": [
      "5.0\n",
      "153.0\n",
      "459.0\n",
      "153.0\n"
     ]
    }
   ],
   "source": [
    "#output a float\n",
    "print(10/2)\n",
    "\n",
    "print(favorite_number / 3)\n",
    "# still holding original value\n",
    "print(favorite_number)\n",
    "\n",
    "favorite_number /= 3\n",
    "print(favorite_number)"
   ]
  },
  {
   "cell_type": "markdown",
   "metadata": {},
   "source": [
    "##### Floor Division"
   ]
  },
  {
   "cell_type": "code",
   "execution_count": 32,
   "metadata": {},
   "outputs": [
    {
     "name": "stdout",
     "output_type": "stream",
     "text": [
      "5\n",
      "1.0\n",
      "5.0\n"
     ]
    }
   ],
   "source": [
    "# output the original data type between in || float\n",
    "print(11 // 2)\n",
    "#reassigning with floor division\n",
    "favorite_number //= 9\n",
    "print(favorite_number)\n",
    "\n",
    "print(11.5 // 2)\n"
   ]
  },
  {
   "cell_type": "markdown",
   "metadata": {},
   "source": [
    "##### Modulo"
   ]
  },
  {
   "cell_type": "code",
   "execution_count": 34,
   "metadata": {},
   "outputs": [
    {
     "name": "stdout",
     "output_type": "stream",
     "text": [
      "0\n",
      "1\n",
      "24\n"
     ]
    }
   ],
   "source": [
    "# used with % outputs remainder\n",
    "print(10 % 2)\n",
    "\n",
    "print(11 % 2)\n",
    "\n",
    "print(124 % 25)"
   ]
  },
  {
   "cell_type": "markdown",
   "metadata": {},
   "source": [
    "##### Exponential"
   ]
  },
  {
   "cell_type": "code",
   "execution_count": 39,
   "metadata": {},
   "outputs": [
    {
     "name": "stdout",
     "output_type": "stream",
     "text": [
      "100\n",
      "1000\n",
      "100\n",
      "10000\n"
     ]
    }
   ],
   "source": [
    "# **\n",
    "#squaring\n",
    "print(10**2)\n",
    "\n",
    "print(10**3)\n",
    "\n",
    "my_num = 10\n",
    "#reassining\n",
    "#long hand\n",
    "my_num = my_num ** 2\n",
    "print(my_num)\n",
    "#short hand\n",
    "my_num **= 2\n",
    "print(my_num)"
   ]
  },
  {
   "cell_type": "markdown",
   "metadata": {},
   "source": [
    "### String Input-Output"
   ]
  },
  {
   "cell_type": "markdown",
   "metadata": {},
   "source": [
    "##### String Assignment"
   ]
  },
  {
   "cell_type": "code",
   "execution_count": 41,
   "metadata": {},
   "outputs": [
    {
     "name": "stdout",
     "output_type": "stream",
     "text": [
      "<class 'str'>\n",
      "<class 'str'>\n"
     ]
    }
   ],
   "source": [
    "instructor = 'Sean'\n",
    "\n",
    "print(type(instructor))\n",
    "\n",
    "num_string = '500'\n",
    "\n",
    "print(type(num_string))"
   ]
  },
  {
   "cell_type": "markdown",
   "metadata": {},
   "source": [
    "##### print() <br>\n",
    "<p>Don't forget about end=' '</p>"
   ]
  },
  {
   "cell_type": "code",
   "execution_count": 43,
   "metadata": {},
   "outputs": [
    {
     "name": "stdout",
     "output_type": "stream",
     "text": [
      "Sean Currie hello world\n"
     ]
    }
   ],
   "source": [
    "#end by default is new line /n can overwrite by adding end argument\n",
    "print(instructor, end=' Currie ')\n",
    "print('hello world')\n",
    "print('test')"
   ]
  },
  {
   "cell_type": "markdown",
   "metadata": {},
   "source": [
    "##### String Concatenation"
   ]
  },
  {
   "cell_type": "code",
   "execution_count": 47,
   "metadata": {},
   "outputs": [
    {
     "name": "stdout",
     "output_type": "stream",
     "text": [
      "Agent Smith\n",
      "Dylan Smoth\n",
      "Dylan Smoth jr\n"
     ]
    }
   ],
   "source": [
    "first_name = 'Agent'\n",
    "last_name = 'Smith'\n",
    "\n",
    "full_name = first_name +' '+ last_name\n",
    "print(full_name)\n",
    "\n",
    "my_name = 'Dylan'\n",
    "my_name = my_name + ' Smith'\n",
    "print(my_name)\n",
    "\n",
    "#short hand\n",
    "my_name += ' jr' \n",
    "print(my_name)"
   ]
  },
  {
   "cell_type": "markdown",
   "metadata": {},
   "source": [
    "##### Type Conversion"
   ]
  },
  {
   "cell_type": "code",
   "execution_count": 52,
   "metadata": {},
   "outputs": [
    {
     "name": "stdout",
     "output_type": "stream",
     "text": [
      "10000 <class 'int'>\n",
      "<class 'str'>\n",
      "10000 <class 'str'>\n"
     ]
    }
   ],
   "source": [
    "# str() function is out of place not changing original type must reassign\n",
    "\n",
    "print(my_num, type(my_num))\n",
    "\n",
    "print(type(str(my_num)))\n",
    "\n",
    "# reassigned to converted number\n",
    "\n",
    "my_num = str(my_num)\n",
    "\n",
    "#type error\n",
    "#my_num + 5\n",
    "\n",
    "print(my_num, type(my_num))"
   ]
  },
  {
   "cell_type": "code",
   "execution_count": 53,
   "metadata": {},
   "outputs": [
    {
     "name": "stdout",
     "output_type": "stream",
     "text": [
      "10000 <class 'str'>\n"
     ]
    }
   ],
   "source": [
    "#convert to into with int()\n",
    "\n",
    "print(my_num, type(my_num))\n",
    "\n",
    "int(my_num)\n",
    "\n",
    "print(type(my_num))\n",
    "\n",
    "#reassign to new type\n",
    "my_num = int(my_num)\n",
    "\n",
    "print(type(my_num))\n",
    "\n",
    "#value error\n",
    "#int('100andone')\n",
    "#argument must be all digits"
   ]
  },
  {
   "cell_type": "markdown",
   "metadata": {},
   "source": [
    "##### input()"
   ]
  },
  {
   "cell_type": "code",
   "execution_count": 1,
   "metadata": {},
   "outputs": [
    {
     "name": "stdout",
     "output_type": "stream",
     "text": [
      "What is your name? William\n"
     ]
    }
   ],
   "source": [
    "# input() takes a prompt as an argument\n",
    "#always returns a string\n",
    "\n",
    "user_name = input('What is your name? ')"
   ]
  },
  {
   "cell_type": "code",
   "execution_count": 3,
   "metadata": {},
   "outputs": [
    {
     "name": "stdout",
     "output_type": "stream",
     "text": [
      "William\n"
     ]
    }
   ],
   "source": [
    "print(user_name)"
   ]
  },
  {
   "cell_type": "code",
   "execution_count": 4,
   "metadata": {},
   "outputs": [
    {
     "name": "stdout",
     "output_type": "stream",
     "text": [
      "What is your age? 26\n"
     ]
    }
   ],
   "source": [
    "user_age = input('What is your age? ')"
   ]
  },
  {
   "cell_type": "code",
   "execution_count": 5,
   "metadata": {},
   "outputs": [
    {
     "name": "stdout",
     "output_type": "stream",
     "text": [
      "27\n"
     ]
    }
   ],
   "source": [
    "user_age = int(user_age)\n",
    "user_age += 1\n",
    "print(user_age)"
   ]
  },
  {
   "cell_type": "code",
   "execution_count": null,
   "metadata": {},
   "outputs": [],
   "source": []
  },
  {
   "cell_type": "markdown",
   "metadata": {},
   "source": [
    "##### format()"
   ]
  },
  {
   "cell_type": "code",
   "execution_count": 7,
   "metadata": {},
   "outputs": [
    {
     "name": "stdout",
     "output_type": "stream",
     "text": [
      "User William is 27 years old\n"
     ]
    }
   ],
   "source": [
    "print('User {} is {} years old'.format(user_name, user_age))"
   ]
  },
  {
   "cell_type": "markdown",
   "metadata": {},
   "source": [
    "##### Old Way (python 2)"
   ]
  },
  {
   "cell_type": "code",
   "execution_count": 10,
   "metadata": {},
   "outputs": [
    {
     "name": "stdout",
     "output_type": "stream",
     "text": [
      "User William is 27 years old\n"
     ]
    }
   ],
   "source": [
    "print('User %s is %s years old'%(user_name, user_age))"
   ]
  },
  {
   "cell_type": "code",
   "execution_count": 11,
   "metadata": {},
   "outputs": [
    {
     "name": "stdout",
     "output_type": "stream",
     "text": [
      "User William is 27 years old\n"
     ]
    }
   ],
   "source": [
    "print(f'User {user_name} is {user_age} years old')"
   ]
  },
  {
   "cell_type": "markdown",
   "metadata": {},
   "source": [
    "# In-Class Exercise 1 <br>\n",
    "<p>Create a format statement that asks for color, year, make, model and prints out the results</p>"
   ]
  },
  {
   "cell_type": "code",
   "execution_count": 1,
   "metadata": {},
   "outputs": [
    {
     "name": "stdout",
     "output_type": "stream",
     "text": [
      "What is the color of your car? Black\n"
     ]
    }
   ],
   "source": [
    "car_color = input('What is the color of your car? ')"
   ]
  },
  {
   "cell_type": "code",
   "execution_count": 2,
   "metadata": {},
   "outputs": [
    {
     "name": "stdout",
     "output_type": "stream",
     "text": [
      "What year was car made? 2020\n"
     ]
    }
   ],
   "source": [
    "car_year = input('What year was car made? ')"
   ]
  },
  {
   "cell_type": "code",
   "execution_count": 6,
   "metadata": {},
   "outputs": [
    {
     "name": "stdout",
     "output_type": "stream",
     "text": [
      "What is your cars make? Nissan\n"
     ]
    }
   ],
   "source": [
    "car_make = input('What is your cars make? ')"
   ]
  },
  {
   "cell_type": "code",
   "execution_count": 4,
   "metadata": {},
   "outputs": [
    {
     "name": "stdout",
     "output_type": "stream",
     "text": [
      "What is your cars model? Murano\n"
     ]
    }
   ],
   "source": [
    "car_model = input('What is your cars model? ')"
   ]
  },
  {
   "cell_type": "code",
   "execution_count": 7,
   "metadata": {},
   "outputs": [
    {
     "name": "stdout",
     "output_type": "stream",
     "text": [
      "Your car is a 2020 Black Nissan Murano\n"
     ]
    }
   ],
   "source": [
    "print(f'Your car is a {car_year} {car_color} {car_make} {car_model}')"
   ]
  },
  {
   "cell_type": "markdown",
   "metadata": {},
   "source": [
    "### If Statements"
   ]
  },
  {
   "cell_type": "code",
   "execution_count": 12,
   "metadata": {},
   "outputs": [
    {
     "name": "stdout",
     "output_type": "stream",
     "text": [
      "condition true\n",
      "true\n"
     ]
    }
   ],
   "source": [
    "# if (boolean):\n",
    "    # run action must be indented\n",
    "\n",
    "if True:\n",
    "    print('condition true')\n",
    "\n",
    "if 1:\n",
    "    print('true')\n",
    "\n",
    "if 0:\n",
    "    print('zero true')\n"
   ]
  },
  {
   "cell_type": "code",
   "execution_count": 1,
   "metadata": {},
   "outputs": [
    {
     "name": "stdout",
     "output_type": "stream",
     "text": [
      "five > 4\n",
      "5 == 5\n",
      "10 >= 10\n",
      "10 > 9\n",
      "True or False\n",
      "11 > 10 == 10\n",
      "second action\n",
      "11 > 10 == 10\n",
      "second action\n",
      "both true\n"
     ]
    }
   ],
   "source": [
    "# Available operators: Greater(>), Less(<),Equal(==)\n",
    "# Greater or Equal(>=), Less or Equal (<=)\n",
    "\n",
    "if 5 > 4:\n",
    "    print('five > 4')\n",
    "    \n",
    "if 5 < 4:\n",
    "    print('five < 4')\n",
    "    \n",
    "if 5 == 5:\n",
    "    print('5 == 5')\n",
    "    \n",
    "if 5 + 5 >= 10:\n",
    "    print('10 >= 10')\n",
    "    \n",
    "if 5 + 5 > 9:\n",
    "    print('10 > 9')\n",
    "    \n",
    "# Truth Tree:\n",
    "# T && F = F\n",
    "# T && T = T\n",
    "# T || F = T\n",
    "# F || T = T\n",
    "# F || F = F\n",
    "\n",
    "if True and False:\n",
    "    print('True and False')\n",
    "    \n",
    "if True or False:\n",
    "    print('True or False')\n",
    "if 5 + 5 == 10 and 11 > 10:\n",
    "    print('11 > 10 == 10')\n",
    "    print('second action')\n",
    "    \n",
    "    \n",
    "if 5 + 5 == 10 and 11 > 10:\n",
    "    print('11 > 10 == 10')\n",
    "    print('second action')\n",
    "    \n",
    "#first condition returns false, does not check 2nd condition\n",
    "if 10 == 11 and int(input('What is your age?')) > 18:\n",
    "    print('breaking at first condition')\n",
    "# t or f\n",
    "#if 10 == 11 or int(input('What is your age?')) > 18:\n",
    " #   print('breaking at first condition')\n",
    "    \n",
    "# T or T\n",
    "if 1 > 0 or 10 == 10:\n",
    "    print('both true')\n",
    "    \n",
    "# f or f\n",
    "if 1 > 2 or 2 > 3:\n",
    "    print('both true using or')"
   ]
  },
  {
   "cell_type": "markdown",
   "metadata": {},
   "source": [
    "##### 'is' keyword"
   ]
  },
  {
   "cell_type": "code",
   "execution_count": 5,
   "metadata": {
    "scrolled": true
   },
   "outputs": [
    {
     "name": "stdout",
     "output_type": "stream",
     "text": [
      "[1, 2, 3, 4]\n",
      "True\n",
      "[1, 2, 3, 4, 5]\n",
      "[1, 2, 3, 4]\n"
     ]
    }
   ],
   "source": [
    "simple_list = [1,2,3,4]\n",
    "basic_list = [1,2,3,4]\n",
    "#true\n",
    "simple_list == basic_list\n",
    "#false\n",
    "simple_list is basic_list\n",
    "\n",
    "simple_list_copy = simple_list\n",
    "print(simple_list_copy)\n",
    "\n",
    "print(simple_list_copy is simple_list)\n",
    "\n",
    "simple_list.append(5)\n",
    "\n",
    "print(simple_list_copy)\n",
    "\n",
    "print(basic_list)\n",
    "    "
   ]
  },
  {
   "cell_type": "markdown",
   "metadata": {},
   "source": [
    "##### 'in' keyword"
   ]
  },
  {
   "cell_type": "code",
   "execution_count": 9,
   "metadata": {},
   "outputs": [
    {
     "name": "stdout",
     "output_type": "stream",
     "text": [
      "True\n",
      "False\n",
      "O N True\n",
      "True\n",
      "False\n"
     ]
    }
   ],
   "source": [
    "# membership check\n",
    "#case sensitive\n",
    "character = 'Neo'\n",
    "print('N' in character)\n",
    "print('n' in character)\n",
    "print('O','N','E' in 'NEO')\n",
    "print('neo' in 'neo')\n",
    "#out of order\n",
    "print('one' in 'neo')\n"
   ]
  },
  {
   "cell_type": "code",
   "execution_count": 10,
   "metadata": {},
   "outputs": [
    {
     "name": "stdout",
     "output_type": "stream",
     "text": [
      "otrue\n",
      "ntrue\n",
      "etrue\n"
     ]
    }
   ],
   "source": [
    "for character in ['o','n','e']:\n",
    "    if character in 'neo':\n",
    "        print(f'{character}true')"
   ]
  },
  {
   "cell_type": "markdown",
   "metadata": {},
   "source": [
    "##### 'not in' keyword'"
   ]
  },
  {
   "cell_type": "code",
   "execution_count": 11,
   "metadata": {},
   "outputs": [
    {
     "name": "stdout",
     "output_type": "stream",
     "text": [
      "no z in Neo\n"
     ]
    }
   ],
   "source": [
    "if 'z' not in character:\n",
    "    print('no z in Neo')\n",
    "if 'n' not in 'neo':\n",
    "    print('no n in neo')"
   ]
  },
  {
   "cell_type": "markdown",
   "metadata": {},
   "source": [
    "# In-Class Exercise 2 <br>\n",
    "<p>Ask user for input, check to see if the letter 'p' is in the input</p>"
   ]
  },
  {
   "cell_type": "code",
   "execution_count": null,
   "metadata": {},
   "outputs": [],
   "source": [
    "your_word = input('Type a word ')\n",
    "if 'p' not in your_word:\n",
    "    print('There is no p in your word')\n",
    "else:\n",
    "    print('there is a p in your word')"
   ]
  },
  {
   "cell_type": "markdown",
   "metadata": {},
   "source": [
    "## Using 'and'/'or' with If Statements"
   ]
  },
  {
   "cell_type": "code",
   "execution_count": null,
   "metadata": {},
   "outputs": [],
   "source": [
    "#see above"
   ]
  },
  {
   "cell_type": "markdown",
   "metadata": {},
   "source": [
    "### Elif Statements"
   ]
  },
  {
   "cell_type": "code",
   "execution_count": 4,
   "metadata": {},
   "outputs": [
    {
     "name": "stdout",
     "output_type": "stream",
     "text": [
      "100 > 99\n",
      "1\n"
     ]
    }
   ],
   "source": [
    "if 5+5 == 100:\n",
    "    print('10 == 10')\n",
    "elif 100 > 99:\n",
    "    print('100 > 99')\n",
    "    \n",
    "#check both conditions\n",
    "#if 5+5 == 10:\n",
    "#    print('10 == 10')\n",
    "#if 100 > 99:\n",
    "#    print('100 > 99')\n",
    "\n",
    "# chaining multiple conditions\n",
    "if False:\n",
    "    print('false')\n",
    "elif 0:\n",
    "    print('0')\n",
    "elif 1:\n",
    "    print(\"1\")\n",
    "elif True:\n",
    "    print('second true')"
   ]
  },
  {
   "cell_type": "markdown",
   "metadata": {},
   "source": [
    "### Else Statements"
   ]
  },
  {
   "cell_type": "code",
   "execution_count": 5,
   "metadata": {},
   "outputs": [
    {
     "name": "stdout",
     "output_type": "stream",
     "text": [
      "no a in morpheous\n",
      "n in neo\n"
     ]
    }
   ],
   "source": [
    "# see above\n",
    "\n",
    "if 'a' in 'morpheous':\n",
    "    print('a in morpheous')\n",
    "else:\n",
    "    print('no a in morpheous')\n",
    "    \n",
    "if 'a' in 'neo':\n",
    "    print('a in neo')\n",
    "elif 'n' in 'neo':\n",
    "    print('n in neo')\n",
    "else:\n",
    "    print('no a or n in neo')"
   ]
  },
  {
   "cell_type": "markdown",
   "metadata": {},
   "source": [
    "### For Loops"
   ]
  },
  {
   "cell_type": "code",
   "execution_count": 6,
   "metadata": {},
   "outputs": [
    {
     "name": "stdout",
     "output_type": "stream",
     "text": [
      "n\n",
      "test\n",
      "e\n",
      "test\n",
      "o\n",
      "test\n",
      " \n",
      "test\n",
      "i\n",
      "test\n",
      "s\n",
      "test\n",
      " \n",
      "test\n",
      "t\n",
      "test\n",
      "h\n",
      "test\n",
      "e\n",
      "test\n",
      " \n",
      "test\n",
      "o\n",
      "test\n",
      "n\n",
      "test\n",
      "e\n",
      "test\n"
     ]
    }
   ],
   "source": [
    "# for keyword, loop variable, in, iterable\n",
    "count = 0\n",
    "for char in 'neo is the one':\n",
    "    print(char)\n",
    "    print('test')\n",
    "    count+=1\n",
    "    print(count)"
   ]
  },
  {
   "cell_type": "code",
   "execution_count": 11,
   "metadata": {},
   "outputs": [
    {
     "name": "stdout",
     "output_type": "stream",
     "text": [
      "2\n",
      "4\n",
      "6\n",
      "8\n",
      "10\n",
      "12\n",
      "14\n",
      "16\n",
      "18\n",
      "20\n"
     ]
    }
   ],
   "source": [
    "#for num in range(10):\n",
    "#    print(num)\n",
    "\n",
    "#range(start,stop,step)\n",
    "\n",
    "#for num in range(1,11):\n",
    "#    print(num)\n",
    "    \n",
    "for num in range(2,21,2):\n",
    "    print(num)"
   ]
  },
  {
   "cell_type": "markdown",
   "metadata": {},
   "source": [
    "##### Using 'in' keyword"
   ]
  },
  {
   "cell_type": "code",
   "execution_count": null,
   "metadata": {},
   "outputs": [],
   "source": [
    "# see above"
   ]
  },
  {
   "cell_type": "markdown",
   "metadata": {},
   "source": [
    "##### Continue Statement"
   ]
  },
  {
   "cell_type": "code",
   "execution_count": null,
   "metadata": {},
   "outputs": [],
   "source": [
    "# will continue to next iteration"
   ]
  },
  {
   "cell_type": "code",
   "execution_count": 12,
   "metadata": {},
   "outputs": [
    {
     "name": "stdout",
     "output_type": "stream",
     "text": [
      "0\n",
      "1\n",
      "2\n",
      "3\n",
      "4\n",
      "6\n",
      "7\n",
      "8\n",
      "9\n"
     ]
    }
   ],
   "source": [
    "for num in range(10):\n",
    "    if num == 5:\n",
    "        continue\n",
    "    print(num)"
   ]
  },
  {
   "cell_type": "markdown",
   "metadata": {},
   "source": [
    "##### Break Statement"
   ]
  },
  {
   "cell_type": "code",
   "execution_count": null,
   "metadata": {},
   "outputs": [],
   "source": [
    "# will break out of current loop"
   ]
  },
  {
   "cell_type": "code",
   "execution_count": 13,
   "metadata": {},
   "outputs": [
    {
     "name": "stdout",
     "output_type": "stream",
     "text": [
      "0\n",
      "1\n",
      "2\n",
      "3\n",
      "4\n"
     ]
    }
   ],
   "source": [
    "for num in range(10):\n",
    "    if num == 5:\n",
    "        break\n",
    "    print(num)"
   ]
  },
  {
   "cell_type": "markdown",
   "metadata": {},
   "source": [
    "##### Pass Statement"
   ]
  },
  {
   "cell_type": "code",
   "execution_count": null,
   "metadata": {},
   "outputs": [],
   "source": [
    "# mostly used as a placeholder, and will continue on same iteration"
   ]
  },
  {
   "cell_type": "code",
   "execution_count": 14,
   "metadata": {},
   "outputs": [
    {
     "name": "stdout",
     "output_type": "stream",
     "text": [
      "0\n",
      "1\n",
      "2\n",
      "3\n",
      "4\n"
     ]
    }
   ],
   "source": [
    "def get_user_age():\n",
    "    pass\n",
    "def calculate_age():\n",
    "    pass\n",
    "for num in range(10):\n",
    "    if num == 5:\n",
    "        break\n",
    "    print(num)"
   ]
  },
  {
   "cell_type": "markdown",
   "metadata": {},
   "source": [
    "##### Double For Loops"
   ]
  },
  {
   "cell_type": "code",
   "execution_count": 17,
   "metadata": {},
   "outputs": [
    {
     "name": "stdout",
     "output_type": "stream",
     "text": [
      "0 s\n",
      "0 e\n",
      "0 a\n",
      "0 n\n",
      "0  \n",
      "0 c\n",
      "0 u\n",
      "0 r\n",
      "0 r\n",
      "0 i\n",
      "0 e\n"
     ]
    }
   ],
   "source": [
    "for num in range(1):\n",
    "    for char in 'sean currie':\n",
    "        print(num, char)"
   ]
  },
  {
   "cell_type": "markdown",
   "metadata": {},
   "source": [
    "### While Loops"
   ]
  },
  {
   "cell_type": "code",
   "execution_count": 18,
   "metadata": {},
   "outputs": [
    {
     "name": "stdout",
     "output_type": "stream",
     "text": [
      "0\n",
      "1\n",
      "2\n",
      "3\n",
      "4\n",
      "5\n",
      "6\n",
      "7\n",
      "8\n",
      "9\n",
      "10\n",
      "11\n",
      "12\n",
      "13\n",
      "14\n",
      "15\n",
      "16\n",
      "17\n",
      "18\n",
      "19\n",
      "20\n",
      "21\n",
      "22\n",
      "23\n",
      "24\n",
      "25\n",
      "26\n",
      "27\n",
      "28\n",
      "29\n",
      "30\n",
      "31\n",
      "32\n",
      "33\n",
      "34\n",
      "35\n",
      "36\n",
      "37\n",
      "38\n",
      "39\n",
      "40\n",
      "41\n",
      "42\n",
      "43\n",
      "44\n",
      "45\n",
      "46\n",
      "47\n",
      "48\n",
      "49\n",
      "50\n",
      "51\n",
      "52\n",
      "53\n",
      "54\n",
      "55\n",
      "56\n",
      "57\n",
      "58\n",
      "59\n",
      "60\n",
      "61\n",
      "62\n",
      "63\n",
      "64\n",
      "65\n",
      "66\n",
      "67\n",
      "68\n",
      "69\n",
      "70\n",
      "71\n",
      "72\n",
      "73\n",
      "74\n",
      "75\n",
      "76\n",
      "77\n",
      "78\n",
      "79\n",
      "80\n",
      "81\n",
      "82\n",
      "83\n",
      "84\n",
      "85\n",
      "86\n",
      "87\n",
      "88\n",
      "89\n",
      "90\n",
      "91\n",
      "92\n",
      "93\n",
      "94\n",
      "95\n",
      "96\n",
      "97\n",
      "98\n",
      "99\n"
     ]
    }
   ],
   "source": [
    "# key while, condition to keep looping\n",
    "\n",
    "num=0\n",
    "while num < 100:\n",
    "    print(num)\n",
    "    num +=1\n"
   ]
  },
  {
   "cell_type": "markdown",
   "metadata": {},
   "source": [
    "##### Looping 'While True'"
   ]
  },
  {
   "cell_type": "code",
   "execution_count": 20,
   "metadata": {},
   "outputs": [
    {
     "name": "stdout",
     "output_type": "stream",
     "text": [
      "hello\n",
      "1\n",
      "hello\n",
      "2\n",
      "hello\n",
      "3\n",
      "hello\n",
      "4\n",
      "hello\n",
      "5\n",
      "hello\n",
      "6\n",
      "hello\n",
      "7\n",
      "hello\n",
      "8\n",
      "hello\n",
      "9\n",
      "hello\n",
      "10\n",
      "hello\n",
      "11\n",
      "hello\n",
      "12\n",
      "hello\n",
      "13\n",
      "hello\n",
      "14\n",
      "hello\n",
      "15\n",
      "hello\n",
      "16\n",
      "hello\n",
      "17\n",
      "hello\n",
      "18\n",
      "hello\n",
      "19\n",
      "hello\n",
      "20\n",
      "hello\n",
      "21\n",
      "hello\n",
      "22\n",
      "hello\n",
      "23\n",
      "hello\n",
      "24\n",
      "hello\n",
      "25\n",
      "hello\n",
      "26\n",
      "hello\n",
      "27\n",
      "hello\n",
      "28\n",
      "hello\n",
      "29\n",
      "hello\n",
      "30\n",
      "hello\n",
      "31\n",
      "hello\n",
      "32\n",
      "hello\n",
      "33\n",
      "hello\n",
      "34\n",
      "hello\n",
      "35\n",
      "hello\n",
      "36\n",
      "hello\n",
      "37\n",
      "hello\n",
      "38\n",
      "hello\n",
      "39\n",
      "hello\n",
      "40\n",
      "hello\n",
      "41\n",
      "hello\n",
      "42\n",
      "hello\n",
      "43\n",
      "hello\n",
      "44\n",
      "hello\n",
      "45\n",
      "hello\n",
      "46\n",
      "hello\n",
      "47\n",
      "hello\n",
      "48\n",
      "hello\n",
      "49\n",
      "hello\n",
      "50\n",
      "hello\n",
      "51\n",
      "hello\n",
      "52\n",
      "hello\n",
      "53\n",
      "hello\n",
      "54\n",
      "hello\n",
      "55\n",
      "hello\n",
      "56\n",
      "hello\n",
      "57\n",
      "hello\n",
      "58\n",
      "hello\n",
      "59\n",
      "hello\n",
      "60\n",
      "hello\n",
      "61\n",
      "hello\n",
      "62\n",
      "hello\n",
      "63\n",
      "hello\n",
      "64\n",
      "hello\n",
      "65\n",
      "hello\n",
      "66\n",
      "hello\n",
      "67\n",
      "hello\n",
      "68\n",
      "hello\n",
      "69\n",
      "hello\n",
      "70\n",
      "hello\n",
      "71\n",
      "hello\n",
      "72\n",
      "hello\n",
      "73\n",
      "hello\n",
      "74\n",
      "hello\n",
      "75\n",
      "hello\n",
      "76\n",
      "hello\n",
      "77\n",
      "hello\n",
      "78\n",
      "hello\n",
      "79\n",
      "hello\n",
      "80\n",
      "hello\n",
      "81\n",
      "hello\n",
      "82\n",
      "hello\n",
      "83\n",
      "hello\n",
      "84\n",
      "hello\n",
      "85\n",
      "hello\n",
      "86\n",
      "hello\n",
      "87\n",
      "hello\n",
      "88\n",
      "hello\n",
      "89\n",
      "hello\n",
      "90\n",
      "hello\n",
      "91\n",
      "hello\n",
      "92\n",
      "hello\n",
      "93\n",
      "hello\n",
      "94\n",
      "hello\n",
      "95\n",
      "hello\n",
      "96\n",
      "hello\n",
      "97\n",
      "hello\n",
      "98\n",
      "hello\n",
      "99\n",
      "hello\n",
      "100\n"
     ]
    }
   ],
   "source": [
    "i = 0\n",
    "while True:\n",
    "    print('hello')\n",
    "    i+=1\n",
    "    print(i)\n",
    "    if i == 100:\n",
    "        break"
   ]
  },
  {
   "cell_type": "markdown",
   "metadata": {},
   "source": [
    "##### While & For Loops Used Together"
   ]
  },
  {
   "cell_type": "code",
   "execution_count": 21,
   "metadata": {},
   "outputs": [
    {
     "name": "stdout",
     "output_type": "stream",
     "text": [
      "0   s\n",
      "0   e\n",
      "0   a\n",
      "0   n\n",
      "1   s\n",
      "1   e\n",
      "1   a\n",
      "1   n\n",
      "2   s\n",
      "2   e\n",
      "2   a\n",
      "2   n\n",
      "3   s\n",
      "3   e\n",
      "3   a\n",
      "3   n\n",
      "4   s\n",
      "4   e\n",
      "4   a\n",
      "4   n\n"
     ]
    }
   ],
   "source": [
    "num = 0\n",
    "while num < 5:\n",
    "    for char in 'sean':\n",
    "        print(num, \" \", char)\n",
    "    num+=1\n",
    "    "
   ]
  },
  {
   "cell_type": "markdown",
   "metadata": {},
   "source": [
    "### Built-In Functions"
   ]
  },
  {
   "cell_type": "markdown",
   "metadata": {},
   "source": [
    "##### range()"
   ]
  },
  {
   "cell_type": "code",
   "execution_count": 1,
   "metadata": {},
   "outputs": [
    {
     "name": "stdout",
     "output_type": "stream",
     "text": [
      "range(0, 10)\n"
     ]
    }
   ],
   "source": [
    "# range(start, stop, step)\n",
    "# only one required argument- would be stop\n",
    "# start defaults to 0 and step defaults to 1\n",
    "print(range(10))"
   ]
  },
  {
   "cell_type": "markdown",
   "metadata": {},
   "source": [
    "##### len()"
   ]
  },
  {
   "cell_type": "code",
   "execution_count": 24,
   "metadata": {},
   "outputs": [
    {
     "name": "stdout",
     "output_type": "stream",
     "text": [
      "0\n",
      "1\n",
      "2\n",
      "3\n",
      "4\n",
      "5\n",
      "6\n",
      "7\n",
      "8\n",
      "9\n",
      "10\n"
     ]
    }
   ],
   "source": [
    "len('sean currie')\n",
    "instructor = 'sean currie'\n",
    "for i in range(len(instructor)):\n",
    "    print(i)"
   ]
  },
  {
   "cell_type": "markdown",
   "metadata": {},
   "source": [
    "##### help()"
   ]
  },
  {
   "cell_type": "code",
   "execution_count": 25,
   "metadata": {},
   "outputs": [
    {
     "name": "stdout",
     "output_type": "stream",
     "text": [
      "Help on class range in module builtins:\n",
      "\n",
      "class range(object)\n",
      " |  range(stop) -> range object\n",
      " |  range(start, stop[, step]) -> range object\n",
      " |  \n",
      " |  Return an object that produces a sequence of integers from start (inclusive)\n",
      " |  to stop (exclusive) by step.  range(i, j) produces i, i+1, i+2, ..., j-1.\n",
      " |  start defaults to 0, and stop is omitted!  range(4) produces 0, 1, 2, 3.\n",
      " |  These are exactly the valid indices for a list of 4 elements.\n",
      " |  When step is given, it specifies the increment (or decrement).\n",
      " |  \n",
      " |  Methods defined here:\n",
      " |  \n",
      " |  __bool__(self, /)\n",
      " |      True if self else False\n",
      " |  \n",
      " |  __contains__(self, key, /)\n",
      " |      Return key in self.\n",
      " |  \n",
      " |  __eq__(self, value, /)\n",
      " |      Return self==value.\n",
      " |  \n",
      " |  __ge__(self, value, /)\n",
      " |      Return self>=value.\n",
      " |  \n",
      " |  __getattribute__(self, name, /)\n",
      " |      Return getattr(self, name).\n",
      " |  \n",
      " |  __getitem__(self, key, /)\n",
      " |      Return self[key].\n",
      " |  \n",
      " |  __gt__(self, value, /)\n",
      " |      Return self>value.\n",
      " |  \n",
      " |  __hash__(self, /)\n",
      " |      Return hash(self).\n",
      " |  \n",
      " |  __iter__(self, /)\n",
      " |      Implement iter(self).\n",
      " |  \n",
      " |  __le__(self, value, /)\n",
      " |      Return self<=value.\n",
      " |  \n",
      " |  __len__(self, /)\n",
      " |      Return len(self).\n",
      " |  \n",
      " |  __lt__(self, value, /)\n",
      " |      Return self<value.\n",
      " |  \n",
      " |  __ne__(self, value, /)\n",
      " |      Return self!=value.\n",
      " |  \n",
      " |  __reduce__(...)\n",
      " |      Helper for pickle.\n",
      " |  \n",
      " |  __repr__(self, /)\n",
      " |      Return repr(self).\n",
      " |  \n",
      " |  __reversed__(...)\n",
      " |      Return a reverse iterator.\n",
      " |  \n",
      " |  count(...)\n",
      " |      rangeobject.count(value) -> integer -- return number of occurrences of value\n",
      " |  \n",
      " |  index(...)\n",
      " |      rangeobject.index(value) -> integer -- return index of value.\n",
      " |      Raise ValueError if the value is not present.\n",
      " |  \n",
      " |  ----------------------------------------------------------------------\n",
      " |  Static methods defined here:\n",
      " |  \n",
      " |  __new__(*args, **kwargs) from builtins.type\n",
      " |      Create and return a new object.  See help(type) for accurate signature.\n",
      " |  \n",
      " |  ----------------------------------------------------------------------\n",
      " |  Data descriptors defined here:\n",
      " |  \n",
      " |  start\n",
      " |  \n",
      " |  step\n",
      " |  \n",
      " |  stop\n",
      "\n"
     ]
    }
   ],
   "source": [
    "help(range)"
   ]
  },
  {
   "cell_type": "markdown",
   "metadata": {},
   "source": [
    "##### isinstance()"
   ]
  },
  {
   "cell_type": "code",
   "execution_count": 26,
   "metadata": {},
   "outputs": [
    {
     "name": "stdout",
     "output_type": "stream",
     "text": [
      "True\n"
     ]
    }
   ],
   "source": [
    "type(instructor)\n",
    "\n",
    "print(isinstance(instructor, str))"
   ]
  },
  {
   "cell_type": "markdown",
   "metadata": {},
   "source": [
    "##### abs()"
   ]
  },
  {
   "cell_type": "code",
   "execution_count": null,
   "metadata": {},
   "outputs": [],
   "source": [
    "abs(-5)\n",
    "abs(5)"
   ]
  },
  {
   "cell_type": "markdown",
   "metadata": {},
   "source": [
    "### Try and Except"
   ]
  },
  {
   "cell_type": "code",
   "execution_count": 27,
   "metadata": {},
   "outputs": [
    {
     "name": "stdout",
     "output_type": "stream",
     "text": [
      "What is your age? ten\n",
      "error enter age in digits\n",
      "What is your age? twenty\n",
      "error enter age in digits\n",
      "What is your age? 14\n"
     ]
    }
   ],
   "source": [
    "while True:\n",
    "    try:\n",
    "        user_age = int(input('What is your age? '))\n",
    "        break\n",
    "    except:\n",
    "        print('error enter age in digits')\n",
    "                  "
   ]
  },
  {
   "cell_type": "markdown",
   "metadata": {},
   "source": [
    "### Lists"
   ]
  },
  {
   "cell_type": "markdown",
   "metadata": {},
   "source": [
    "##### Declaring Lists"
   ]
  },
  {
   "cell_type": "code",
   "execution_count": 10,
   "metadata": {},
   "outputs": [
    {
     "name": "stdout",
     "output_type": "stream",
     "text": [
      "15  +  0 = 15\n",
      "15  +  1 = 16\n",
      "16  +  2 = 18\n",
      "18  +  3 = 21\n",
      "21  +  4 = 25\n",
      "25  +  5 = 30\n",
      "0\n"
     ]
    }
   ],
   "source": [
    "my_sum = 0\n",
    "for num in range(6):\n",
    "    print(sum, \" + \", num, f'= {sum+num}')\n",
    "    sum += num\n",
    "print(my_sum)"
   ]
  },
  {
   "cell_type": "code",
   "execution_count": 11,
   "metadata": {},
   "outputs": [
    {
     "name": "stdout",
     "output_type": "stream",
     "text": [
      "<class 'list'>\n"
     ]
    }
   ],
   "source": [
    "# Declare a list with []\n",
    "\n",
    "new_list = []\n",
    "\n",
    "print(type(new_list))"
   ]
  },
  {
   "cell_type": "markdown",
   "metadata": {},
   "source": [
    "##### Indexing a List"
   ]
  },
  {
   "cell_type": "code",
   "execution_count": 16,
   "metadata": {},
   "outputs": [
    {
     "data": {
      "text/plain": [
       "'gian'"
      ]
     },
     "execution_count": 16,
     "metadata": {},
     "output_type": "execute_result"
    }
   ],
   "source": [
    "# Index with bracket notation\n",
    "\n",
    "students = ['ray', 'christopher', 'alec', 'gian', 'john']\n",
    "\n",
    "students[0]\n",
    "students[1]\n",
    "# Indencies are Integers can do any math operations\n",
    "students[1+1]\n",
    "# -1 starts at the end of the list\n",
    "students[-1]\n",
    "students[-2]"
   ]
  },
  {
   "cell_type": "markdown",
   "metadata": {},
   "source": [
    "##### .append()"
   ]
  },
  {
   "cell_type": "code",
   "execution_count": 17,
   "metadata": {},
   "outputs": [
    {
     "name": "stdout",
     "output_type": "stream",
     "text": [
      "['ray', 'christopher', 'alec', 'gian', 'john']\n",
      "['ray', 'christopher', 'alec', 'gian', 'john', 'Will'] after append\n"
     ]
    },
    {
     "data": {
      "text/plain": [
       "['Will', 'alec', 'christopher', 'gian', 'john', 'ray']"
      ]
     },
     "execution_count": 17,
     "metadata": {},
     "output_type": "execute_result"
    }
   ],
   "source": [
    "# Add an element at the end of the list\n",
    "# Method Dot Notation\n",
    "print(students)\n",
    "students.append('Will')\n",
    "# only takes in one arguement \n",
    "print(students, 'after append')\n",
    "# Built in function\n",
    "sorted(students)"
   ]
  },
  {
   "cell_type": "code",
   "execution_count": 19,
   "metadata": {},
   "outputs": [
    {
     "name": "stdout",
     "output_type": "stream",
     "text": [
      "[[1, 2, 3], [1, 0, 1, 0], [0, 0, 1, 1]]\n"
     ]
    }
   ],
   "source": [
    "# 2d list\n",
    "matrix = []\n",
    "\n",
    "matrix.append([1,2,3])\n",
    "matrix.append([1,0,1,0])\n",
    "matrix.append([0,0,1,1])\n",
    "\n",
    "print(matrix)\n"
   ]
  },
  {
   "cell_type": "code",
   "execution_count": 22,
   "metadata": {},
   "outputs": [
    {
     "name": "stdout",
     "output_type": "stream",
     "text": [
      "1\n",
      "2\n",
      "3\n",
      "1\n",
      "0\n",
      "1\n",
      "0\n",
      "0\n",
      "0\n",
      "1\n",
      "1\n"
     ]
    }
   ],
   "source": [
    "for a_list in matrix:\n",
    "    for num in a_list:\n",
    "        print(num)"
   ]
  },
  {
   "cell_type": "markdown",
   "metadata": {},
   "source": [
    "##### .insert()"
   ]
  },
  {
   "cell_type": "code",
   "execution_count": 25,
   "metadata": {},
   "outputs": [
    {
     "name": "stdout",
     "output_type": "stream",
     "text": [
      "['Kevin', 'Andy', 'ray', 'christopher', 'alec', 'gian', 'john', 'Will']\n",
      "['Kevin', 'Kevin', 'Andy', 'ray', 'christopher', 'alec', 'gian', 'john', 'Will']  after insert\n",
      "['Kevin', 'Kevin', 'Andy', 'ray', 'christopher', 'alec', 'gian', 'john', 'Will']\n"
     ]
    }
   ],
   "source": [
    "# insert an element into a specified position\n",
    "\n",
    "print(students)\n",
    "#students.insert(0, 'Kevin')\n",
    "print(students,' after insert')\n",
    "#students.insert(1, 'Andy')\n",
    "print(students)"
   ]
  },
  {
   "cell_type": "markdown",
   "metadata": {},
   "source": [
    "##### .pop()"
   ]
  },
  {
   "cell_type": "code",
   "execution_count": 31,
   "metadata": {},
   "outputs": [
    {
     "name": "stdout",
     "output_type": "stream",
     "text": [
      "['Kevin', 'Andy', 'christopher', 'alec', 'gian', 'john']\n",
      "['Kevin', 'Andy', 'christopher', 'alec', 'gian', 'john']\n",
      "Removed from list ray\n",
      "['Andy', 'christopher', 'alec', 'gian', 'john']\n"
     ]
    }
   ],
   "source": [
    "# Remove an element at a given index. Defaults to last element (-1)\n",
    "# Atore the popped value, option\n",
    "\n",
    "print(students)\n",
    "#students.pop()\n",
    "\n",
    "#removed_students = students.pop(2)\n",
    "print(students)\n",
    "print(f'Removed from list {removed_students}')\n",
    "\n",
    "students.pop(0)\n",
    "print(students)"
   ]
  },
  {
   "cell_type": "markdown",
   "metadata": {},
   "source": [
    "\n",
    "##### .remove()"
   ]
  },
  {
   "cell_type": "code",
   "execution_count": 26,
   "metadata": {},
   "outputs": [
    {
     "name": "stdout",
     "output_type": "stream",
     "text": [
      "['Kevin', 'Kevin', 'Andy', 'ray', 'christopher', 'alec', 'gian', 'john', 'Will']\n",
      "['Kevin', 'Andy', 'ray', 'christopher', 'alec', 'gian', 'john', 'Will'] after remove\n"
     ]
    }
   ],
   "source": [
    "# Remove an element that is passed in as an argument\n",
    "print(students)\n",
    "students.remove('Kevin')\n",
    "print(f'{students} after remove')"
   ]
  },
  {
   "cell_type": "code",
   "execution_count": 29,
   "metadata": {},
   "outputs": [
    {
     "ename": "SyntaxError",
     "evalue": "expected ':' (202866772.py, line 1)",
     "output_type": "error",
     "traceback": [
      "\u001b[1;36m  Cell \u001b[1;32mIn[29], line 1\u001b[1;36m\u001b[0m\n\u001b[1;33m    while 'Kevin' in students\u001b[0m\n\u001b[1;37m                             ^\u001b[0m\n\u001b[1;31mSyntaxError\u001b[0m\u001b[1;31m:\u001b[0m expected ':'\n"
     ]
    }
   ],
   "source": [
    "while 'Kevin' in students\n",
    "    students.remove('Kevin')\n",
    "print(students)"
   ]
  },
  {
   "cell_type": "markdown",
   "metadata": {},
   "source": [
    "##### del()"
   ]
  },
  {
   "cell_type": "code",
   "execution_count": 39,
   "metadata": {},
   "outputs": [
    {
     "name": "stdout",
     "output_type": "stream",
     "text": [
      "['gian', 'john']\n",
      "['john']\n"
     ]
    }
   ],
   "source": [
    "# del is a built in function, not a method\n",
    "\n",
    "print(students)\n",
    "\n",
    "del(students[0])\n",
    "\n",
    "print(students)"
   ]
  },
  {
   "cell_type": "markdown",
   "metadata": {},
   "source": [
    "##### Concatenating Two Lists"
   ]
  },
  {
   "cell_type": "code",
   "execution_count": 42,
   "metadata": {},
   "outputs": [
    {
     "name": "stdout",
     "output_type": "stream",
     "text": [
      "['john', 'yea', 'todd', 'andy', 'william']\n",
      "['john', 'yea', 'todd', 'andy', 'william', 'yea', 'todd', 'andy', 'william']\n",
      "['john', 'yea', 'todd', 'andy', 'william', 'yea', 'todd', 'andy', 'william']\n",
      "['john', 'yea', 'todd', 'andy', 'william', 'yea', 'todd', 'andy', 'william']  og students list\n",
      "['john', 'yea', 'todd', 'andy', 'william', 'yea', 'todd', 'andy', 'william', 'karina', 'vinh']  inline\n"
     ]
    }
   ],
   "source": [
    "print(students)\n",
    "\n",
    "students_list_2 = ['yea', 'todd', 'andy', 'william']\n",
    "print(students + students_list_2)\n",
    "\n",
    "full_students_list = students + students_list_2\n",
    "print(full_students_list)\n",
    "\n",
    "students += students_list_2\n",
    "\n",
    "print(students, ' og students list')\n",
    "\n",
    "# inline\n",
    "\n",
    "students += ['karina', 'vinh']\n",
    "print(students, ' inline')"
   ]
  },
  {
   "cell_type": "markdown",
   "metadata": {},
   "source": [
    "##### Lists Within Lists"
   ]
  },
  {
   "cell_type": "code",
   "execution_count": null,
   "metadata": {},
   "outputs": [],
   "source": [
    "# see above"
   ]
  },
  {
   "cell_type": "markdown",
   "metadata": {},
   "source": [
    "##### Looping Through Lists"
   ]
  },
  {
   "cell_type": "code",
   "execution_count": 48,
   "metadata": {},
   "outputs": [
    {
     "name": "stdout",
     "output_type": "stream",
     "text": [
      "['john', 'yea', 'todd', 'andy', 'william', 'yea', 'todd', 'andy', 'william', 'karina', 'vinh']\n",
      "11\n",
      "range(0, 11)\n",
      "0\n",
      "1\n",
      "2\n",
      "3\n",
      "4\n",
      "5\n",
      "6\n",
      "7\n",
      "8\n",
      "9\n",
      "10\n"
     ]
    }
   ],
   "source": [
    "# for loop through students accessing elements\n",
    "#print(students)\n",
    "#for e in students:\n",
    " #   print(e)\n",
    "    \n",
    "# loop through with the indecies\n",
    "#for i in range(len(students)):\n",
    "#    print(students[i])\n",
    "\n",
    "#crucual when you care about elements at other positions\n",
    "\n",
    "print(len(students))\n",
    "print(range(11))\n",
    "for i in range(11):\n",
    "    print(i)\n",
    "\n",
    "print(students)"
   ]
  },
  {
   "cell_type": "markdown",
   "metadata": {},
   "source": [
    "## Exercise #1 <br>\n",
    "<p>Cube Number Test... Print out all cubed numbers up to the total value 1000. Meaning that if the cubed number is over 1000 break the loop.</p>"
   ]
  },
  {
   "cell_type": "code",
   "execution_count": 37,
   "metadata": {},
   "outputs": [
    {
     "name": "stdout",
     "output_type": "stream",
     "text": [
      "1\n",
      "9\n",
      "17\n",
      "25\n",
      "33\n",
      "41\n",
      "49\n",
      "57\n",
      "65\n",
      "73\n",
      "81\n",
      "89\n",
      "97\n",
      "105\n",
      "113\n",
      "121\n",
      "129\n",
      "137\n",
      "145\n",
      "153\n",
      "161\n",
      "169\n",
      "177\n",
      "185\n",
      "193\n",
      "201\n",
      "209\n",
      "217\n",
      "225\n",
      "233\n",
      "241\n",
      "249\n",
      "257\n",
      "265\n",
      "273\n",
      "281\n",
      "289\n",
      "297\n",
      "305\n",
      "313\n",
      "321\n",
      "329\n",
      "337\n",
      "345\n",
      "353\n",
      "361\n",
      "369\n",
      "377\n",
      "385\n",
      "393\n",
      "401\n",
      "409\n",
      "417\n",
      "425\n",
      "433\n",
      "441\n",
      "449\n",
      "457\n",
      "465\n",
      "473\n",
      "481\n",
      "489\n",
      "497\n",
      "505\n",
      "513\n",
      "521\n",
      "529\n",
      "537\n",
      "545\n",
      "553\n",
      "561\n",
      "569\n",
      "577\n",
      "585\n",
      "593\n",
      "601\n",
      "609\n",
      "617\n",
      "625\n",
      "633\n",
      "641\n",
      "649\n",
      "657\n",
      "665\n",
      "673\n",
      "681\n",
      "689\n",
      "697\n",
      "705\n",
      "713\n",
      "721\n",
      "729\n",
      "737\n",
      "745\n",
      "753\n",
      "761\n",
      "769\n",
      "777\n",
      "785\n",
      "793\n",
      "801\n",
      "809\n",
      "817\n",
      "825\n",
      "833\n",
      "841\n",
      "849\n",
      "857\n",
      "865\n",
      "873\n",
      "881\n",
      "889\n",
      "897\n",
      "905\n",
      "913\n",
      "921\n",
      "929\n",
      "937\n",
      "945\n",
      "953\n",
      "961\n",
      "969\n",
      "977\n",
      "985\n",
      "993\n"
     ]
    }
   ],
   "source": [
    "num=1\n",
    "while num < 1000:\n",
    "    print(num)\n",
    "    num +=2**3"
   ]
  },
  {
   "cell_type": "markdown",
   "metadata": {},
   "source": [
    "## Exercise #2 <br>\n",
    "<p>Get first prime numbers up to 100</p>"
   ]
  },
  {
   "cell_type": "code",
   "execution_count": 38,
   "metadata": {},
   "outputs": [
    {
     "name": "stdout",
     "output_type": "stream",
     "text": [
      "2\n",
      "3\n",
      "5\n",
      "7\n",
      "11\n",
      "13\n",
      "17\n",
      "19\n",
      "23\n",
      "29\n",
      "31\n",
      "37\n",
      "41\n",
      "43\n",
      "47\n",
      "53\n",
      "59\n",
      "61\n",
      "67\n",
      "71\n",
      "73\n",
      "79\n",
      "83\n",
      "89\n",
      "97\n"
     ]
    }
   ],
   "source": [
    "# HINT::\n",
    "# An else after an if runs if the if didn’t\n",
    "# An else after a for runs if the for didn’t break\n",
    "\n",
    "\n",
    "def prime(number):\n",
    "    for num in range(2,number):\n",
    "        prime = True\n",
    "        for i in range(2,num):\n",
    "            if num % i == 0:\n",
    "                prime = False\n",
    "        if prime:\n",
    "            print(num)\n",
    "prime(101)"
   ]
  },
  {
   "cell_type": "markdown",
   "metadata": {},
   "source": [
    "# Exercise 3 <br>\n",
    "<p>Take in a users input for their age, if they are younger than 18 print kids, if they're 18 to 65 print adults, else print seniors</p>"
   ]
  },
  {
   "cell_type": "code",
   "execution_count": 21,
   "metadata": {},
   "outputs": [
    {
     "name": "stdout",
     "output_type": "stream",
     "text": [
      "What is your age? 26\n",
      "Adult\n"
     ]
    }
   ],
   "source": [
    "age = int(input('What is your age? '))\n",
    "\n",
    "if age < 18:\n",
    "    print('Kid')\n",
    "elif age > 18:\n",
    "    print('Adult')\n",
    "elif age > 65:\n",
    "    print(\"senior\")"
   ]
  },
  {
   "cell_type": "code",
   "execution_count": null,
   "metadata": {},
   "outputs": [],
   "source": []
  },
  {
   "cell_type": "code",
   "execution_count": null,
   "metadata": {},
   "outputs": [],
   "source": []
  }
 ],
 "metadata": {
  "kernelspec": {
   "display_name": "Python 3 (ipykernel)",
   "language": "python",
   "name": "python3"
  },
  "language_info": {
   "codemirror_mode": {
    "name": "ipython",
    "version": 3
   },
   "file_extension": ".py",
   "mimetype": "text/x-python",
   "name": "python",
   "nbconvert_exporter": "python",
   "pygments_lexer": "ipython3",
   "version": "3.10.9"
  }
 },
 "nbformat": 4,
 "nbformat_minor": 2
}
